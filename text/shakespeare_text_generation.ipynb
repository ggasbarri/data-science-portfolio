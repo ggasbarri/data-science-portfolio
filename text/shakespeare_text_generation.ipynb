{
 "nbformat": 4,
 "nbformat_minor": 0,
 "metadata": {
  "accelerator": "GPU",
  "colab": {
   "name": "Shakespeare text generation.ipynb",
   "provenance": [],
   "toc_visible": true
  },
  "kernelspec": {
   "display_name": "Python 3",
   "name": "python3"
  },
  "pycharm": {
   "stem_cell": {
    "cell_type": "raw",
    "source": [],
    "metadata": {
     "collapsed": false
    }
   }
  }
 },
 "cells": [
  {
   "cell_type": "markdown",
   "source": [
    "# Shakespeare Text Generation\n",
    "\n",
    "Sourced from DeepLearning.ai TensorFlow Specialization in Coursera.\n",
    "\n",
    "{{ badge }}"
   ],
   "metadata": {
    "collapsed": false,
    "pycharm": {
     "name": "#%% md\n"
    }
   }
  },
  {
   "cell_type": "code",
   "metadata": {
    "colab_type": "code",
    "id": "BOwsuGQQY9OL",
    "colab": {}
   },
   "source": [
    "from tensorflow.keras.preprocessing.sequence import pad_sequences\n",
    "from tensorflow.keras.layers import Embedding, LSTM, Dense, Dropout, Bidirectional\n",
    "from tensorflow.keras.preprocessing.text import Tokenizer\n",
    "from tensorflow.keras.models import Sequential\n",
    "from tensorflow.keras.optimizers import Adam\n",
    "from tensorflow.keras import regularizers\n",
    "import tensorflow.keras.utils as ku \n",
    "import numpy as np "
   ],
   "execution_count": 0,
   "outputs": []
  },
  {
   "cell_type": "code",
   "metadata": {
    "colab_type": "code",
    "id": "PRnDnCW-Z7qv",
    "colab": {
     "base_uri": "https://localhost:8080/",
     "height": 199
    },
    "outputId": "1a6f4b84-8c1f-4a1a-82fe-f0276b13a15a",
    "executionInfo": {
     "status": "ok",
     "timestamp": 1591652719969,
     "user_tz": -60,
     "elapsed": 5073,
     "user": {
      "displayName": "Gianfranco Gasbarri",
      "photoUrl": "https://lh3.googleusercontent.com/a-/AOh14GiSFZ6RiCXQ29LsIhkGS6B7d5R6eUFX9SKt6toBs-4=s64",
      "userId": "15447085446291055217"
     }
    }
   },
   "source": [
    "tokenizer = Tokenizer()\n",
    "!wget --no-check-certificate \\\n",
    "    https://storage.googleapis.com/laurencemoroney-blog.appspot.com/sonnets.txt \\\n",
    "    -O /tmp/sonnets.txt\n",
    "data = open('/tmp/sonnets.txt').read()\n",
    "\n",
    "corpus = data.lower().split(\"\\n\")\n",
    "\n",
    "\n",
    "tokenizer.fit_on_texts(corpus)\n",
    "total_words = len(tokenizer.word_index) + 1\n",
    "\n",
    "# create input sequences using list of tokens\n",
    "input_sequences = []\n",
    "for line in corpus:\n",
    "\ttoken_list = tokenizer.texts_to_sequences([line])[0]\n",
    "\tfor i in range(1, len(token_list)):\n",
    "\t\tn_gram_sequence = token_list[:i+1]\n",
    "\t\tinput_sequences.append(n_gram_sequence)\n",
    "\n",
    "\n",
    "# pad sequences \n",
    "max_sequence_len = max([len(x) for x in input_sequences])\n",
    "input_sequences = np.array(pad_sequences(input_sequences, maxlen=max_sequence_len, padding='pre'))\n",
    "\n",
    "# create predictors and label\n",
    "predictors, label = input_sequences[:,:-1],input_sequences[:,-1]\n",
    "\n",
    "label = ku.to_categorical(label, num_classes=total_words)"
   ],
   "execution_count": 2,
   "outputs": [
    {
     "output_type": "stream",
     "text": [
      "--2020-06-08 21:45:18--  https://storage.googleapis.com/laurencemoroney-blog.appspot.com/sonnets.txt\n",
      "Resolving storage.googleapis.com (storage.googleapis.com)... 74.125.20.128, 2607:f8b0:400e:c09::80\n",
      "Connecting to storage.googleapis.com (storage.googleapis.com)|74.125.20.128|:443... connected.\n",
      "HTTP request sent, awaiting response... 200 OK\n",
      "Length: 93578 (91K) [text/plain]\n",
      "Saving to: ‘/tmp/sonnets.txt’\n",
      "\n",
      "\r/tmp/sonnets.txt      0%[                    ]       0  --.-KB/s               \r/tmp/sonnets.txt    100%[===================>]  91.38K  --.-KB/s    in 0.001s  \n",
      "\n",
      "2020-06-08 21:45:18 (92.2 MB/s) - ‘/tmp/sonnets.txt’ saved [93578/93578]\n",
      "\n"
     ],
     "name": "stdout"
    }
   ]
  },
  {
   "cell_type": "code",
   "metadata": {
    "colab_type": "code",
    "id": "w9vH8Y59ajYL",
    "colab": {
     "base_uri": "https://localhost:8080/",
     "height": 365
    },
    "outputId": "7b8076b8-b96e-40e4-82ef-1776ff404bc0",
    "executionInfo": {
     "status": "ok",
     "timestamp": 1591652728788,
     "user_tz": -60,
     "elapsed": 13888,
     "user": {
      "displayName": "Gianfranco Gasbarri",
      "photoUrl": "https://lh3.googleusercontent.com/a-/AOh14GiSFZ6RiCXQ29LsIhkGS6B7d5R6eUFX9SKt6toBs-4=s64",
      "userId": "15447085446291055217"
     }
    }
   },
   "source": [
    "model = Sequential()\n",
    "model.add(Embedding(total_words, 100, input_length=max_sequence_len-1))\n",
    "model.add(Bidirectional(LSTM(150, return_sequences = True)))\n",
    "model.add(Dropout(0.2))\n",
    "model.add(LSTM(100))\n",
    "model.add(Dense(total_words/2, activation='relu', kernel_regularizer=regularizers.l2(0.01)))\n",
    "model.add(Dense(total_words, activation='softmax'))\n",
    "model.compile(loss='categorical_crossentropy', optimizer='adam', metrics=['accuracy'])\n",
    "print(model.summary())\n"
   ],
   "execution_count": 3,
   "outputs": [
    {
     "output_type": "stream",
     "text": [
      "Model: \"sequential\"\n",
      "_________________________________________________________________\n",
      "Layer (type)                 Output Shape              Param #   \n",
      "=================================================================\n",
      "embedding (Embedding)        (None, 10, 100)           321100    \n",
      "_________________________________________________________________\n",
      "bidirectional (Bidirectional (None, 10, 300)           301200    \n",
      "_________________________________________________________________\n",
      "dropout (Dropout)            (None, 10, 300)           0         \n",
      "_________________________________________________________________\n",
      "lstm_1 (LSTM)                (None, 100)               160400    \n",
      "_________________________________________________________________\n",
      "dense (Dense)                (None, 1605)              162105    \n",
      "_________________________________________________________________\n",
      "dense_1 (Dense)              (None, 3211)              5156866   \n",
      "=================================================================\n",
      "Total params: 6,101,671\n",
      "Trainable params: 6,101,671\n",
      "Non-trainable params: 0\n",
      "_________________________________________________________________\n",
      "None\n"
     ],
     "name": "stdout"
    }
   ]
  },
  {
   "cell_type": "code",
   "metadata": {
    "colab_type": "code",
    "id": "AIg2f1HBxqof",
    "colab": {
     "base_uri": "https://localhost:8080/",
     "height": 1000
    },
    "outputId": "ff2e1b3d-e910-4a89-d068-79fe985d09eb",
    "executionInfo": {
     "status": "ok",
     "timestamp": 1591653290468,
     "user_tz": -60,
     "elapsed": 575564,
     "user": {
      "displayName": "Gianfranco Gasbarri",
      "photoUrl": "https://lh3.googleusercontent.com/a-/AOh14GiSFZ6RiCXQ29LsIhkGS6B7d5R6eUFX9SKt6toBs-4=s64",
      "userId": "15447085446291055217"
     }
    }
   },
   "source": [
    " history = model.fit(predictors, label, epochs=100, verbose=1)"
   ],
   "execution_count": 4,
   "outputs": [
    {
     "output_type": "stream",
     "text": [
      "Epoch 1/100\n",
      "484/484 [==============================] - 5s 11ms/step - loss: 6.9053 - accuracy: 0.0227\n",
      "Epoch 2/100\n",
      "484/484 [==============================] - 6s 12ms/step - loss: 6.4982 - accuracy: 0.0224\n",
      "Epoch 3/100\n",
      "484/484 [==============================] - 6s 12ms/step - loss: 6.3910 - accuracy: 0.0255\n",
      "Epoch 4/100\n",
      "484/484 [==============================] - 6s 11ms/step - loss: 6.2802 - accuracy: 0.0286\n",
      "Epoch 5/100\n",
      "484/484 [==============================] - 6s 11ms/step - loss: 6.1989 - accuracy: 0.0320\n",
      "Epoch 6/100\n",
      "484/484 [==============================] - 6s 11ms/step - loss: 6.1243 - accuracy: 0.0335\n",
      "Epoch 7/100\n",
      "484/484 [==============================] - 5s 11ms/step - loss: 6.0496 - accuracy: 0.0404\n",
      "Epoch 8/100\n",
      "484/484 [==============================] - 5s 11ms/step - loss: 5.9700 - accuracy: 0.0453\n",
      "Epoch 9/100\n",
      "484/484 [==============================] - 6s 11ms/step - loss: 5.8790 - accuracy: 0.0506\n",
      "Epoch 10/100\n",
      "484/484 [==============================] - 6s 11ms/step - loss: 5.7912 - accuracy: 0.0549\n",
      "Epoch 11/100\n",
      "484/484 [==============================] - 5s 11ms/step - loss: 5.7005 - accuracy: 0.0590\n",
      "Epoch 12/100\n",
      "484/484 [==============================] - 6s 11ms/step - loss: 5.6103 - accuracy: 0.0631\n",
      "Epoch 13/100\n",
      "484/484 [==============================] - 5s 11ms/step - loss: 5.5299 - accuracy: 0.0706\n",
      "Epoch 14/100\n",
      "484/484 [==============================] - 6s 11ms/step - loss: 5.4407 - accuracy: 0.0711\n",
      "Epoch 15/100\n",
      "484/484 [==============================] - 5s 11ms/step - loss: 5.3599 - accuracy: 0.0737\n",
      "Epoch 16/100\n",
      "484/484 [==============================] - 5s 11ms/step - loss: 5.2773 - accuracy: 0.0813\n",
      "Epoch 17/100\n",
      "484/484 [==============================] - 5s 11ms/step - loss: 5.2029 - accuracy: 0.0838\n",
      "Epoch 18/100\n",
      "484/484 [==============================] - 5s 11ms/step - loss: 5.1237 - accuracy: 0.0896\n",
      "Epoch 19/100\n",
      "484/484 [==============================] - 5s 11ms/step - loss: 5.0461 - accuracy: 0.0953\n",
      "Epoch 20/100\n",
      "484/484 [==============================] - 5s 11ms/step - loss: 4.9775 - accuracy: 0.0995\n",
      "Epoch 21/100\n",
      "484/484 [==============================] - 5s 11ms/step - loss: 4.8960 - accuracy: 0.1065\n",
      "Epoch 22/100\n",
      "484/484 [==============================] - 5s 11ms/step - loss: 4.8227 - accuracy: 0.1120\n",
      "Epoch 23/100\n",
      "484/484 [==============================] - 6s 12ms/step - loss: 4.7498 - accuracy: 0.1171\n",
      "Epoch 24/100\n",
      "484/484 [==============================] - 6s 12ms/step - loss: 4.6772 - accuracy: 0.1229\n",
      "Epoch 25/100\n",
      "484/484 [==============================] - 6s 12ms/step - loss: 4.5977 - accuracy: 0.1319\n",
      "Epoch 26/100\n",
      "484/484 [==============================] - 6s 12ms/step - loss: 4.5164 - accuracy: 0.1378\n",
      "Epoch 27/100\n",
      "484/484 [==============================] - 6s 11ms/step - loss: 4.4407 - accuracy: 0.1442\n",
      "Epoch 28/100\n",
      "484/484 [==============================] - 5s 11ms/step - loss: 4.3621 - accuracy: 0.1528\n",
      "Epoch 29/100\n",
      "484/484 [==============================] - 5s 11ms/step - loss: 4.2930 - accuracy: 0.1616\n",
      "Epoch 30/100\n",
      "484/484 [==============================] - 5s 11ms/step - loss: 4.2212 - accuracy: 0.1669\n",
      "Epoch 31/100\n",
      "484/484 [==============================] - 5s 11ms/step - loss: 4.1404 - accuracy: 0.1777\n",
      "Epoch 32/100\n",
      "484/484 [==============================] - 5s 11ms/step - loss: 4.0807 - accuracy: 0.1867\n",
      "Epoch 33/100\n",
      "484/484 [==============================] - 5s 11ms/step - loss: 3.9990 - accuracy: 0.1955\n",
      "Epoch 34/100\n",
      "484/484 [==============================] - 5s 11ms/step - loss: 3.9324 - accuracy: 0.2080\n",
      "Epoch 35/100\n",
      "484/484 [==============================] - 5s 11ms/step - loss: 3.8639 - accuracy: 0.2200\n",
      "Epoch 36/100\n",
      "484/484 [==============================] - 5s 11ms/step - loss: 3.7924 - accuracy: 0.2339\n",
      "Epoch 37/100\n",
      "484/484 [==============================] - 5s 11ms/step - loss: 3.7344 - accuracy: 0.2425\n",
      "Epoch 38/100\n",
      "484/484 [==============================] - 6s 12ms/step - loss: 3.6666 - accuracy: 0.2572\n",
      "Epoch 39/100\n",
      "484/484 [==============================] - 5s 11ms/step - loss: 3.6100 - accuracy: 0.2678\n",
      "Epoch 40/100\n",
      "484/484 [==============================] - 5s 11ms/step - loss: 3.5508 - accuracy: 0.2823\n",
      "Epoch 41/100\n",
      "484/484 [==============================] - 5s 11ms/step - loss: 3.4834 - accuracy: 0.2903\n",
      "Epoch 42/100\n",
      "484/484 [==============================] - 5s 11ms/step - loss: 3.4218 - accuracy: 0.3028\n",
      "Epoch 43/100\n",
      "484/484 [==============================] - 5s 11ms/step - loss: 3.3731 - accuracy: 0.3170\n",
      "Epoch 44/100\n",
      "484/484 [==============================] - 5s 11ms/step - loss: 3.3175 - accuracy: 0.3289\n",
      "Epoch 45/100\n",
      "484/484 [==============================] - 5s 11ms/step - loss: 3.2565 - accuracy: 0.3381\n",
      "Epoch 46/100\n",
      "484/484 [==============================] - 5s 11ms/step - loss: 3.2105 - accuracy: 0.3505\n",
      "Epoch 47/100\n",
      "484/484 [==============================] - 5s 11ms/step - loss: 3.1481 - accuracy: 0.3689\n",
      "Epoch 48/100\n",
      "484/484 [==============================] - 5s 11ms/step - loss: 3.0904 - accuracy: 0.3769\n",
      "Epoch 49/100\n",
      "484/484 [==============================] - 5s 11ms/step - loss: 3.0539 - accuracy: 0.3817\n",
      "Epoch 50/100\n",
      "484/484 [==============================] - 6s 11ms/step - loss: 2.9961 - accuracy: 0.4025\n",
      "Epoch 51/100\n",
      "484/484 [==============================] - 5s 11ms/step - loss: 2.9503 - accuracy: 0.4097\n",
      "Epoch 52/100\n",
      "484/484 [==============================] - 5s 11ms/step - loss: 2.9143 - accuracy: 0.4147\n",
      "Epoch 53/100\n",
      "484/484 [==============================] - 5s 11ms/step - loss: 2.8635 - accuracy: 0.4270\n",
      "Epoch 54/100\n",
      "484/484 [==============================] - 5s 11ms/step - loss: 2.8021 - accuracy: 0.4410\n",
      "Epoch 55/100\n",
      "484/484 [==============================] - 5s 11ms/step - loss: 2.7735 - accuracy: 0.4483\n",
      "Epoch 56/100\n",
      "484/484 [==============================] - 5s 11ms/step - loss: 2.7188 - accuracy: 0.4591\n",
      "Epoch 57/100\n",
      "484/484 [==============================] - 5s 11ms/step - loss: 2.6873 - accuracy: 0.4663\n",
      "Epoch 58/100\n",
      "484/484 [==============================] - 6s 12ms/step - loss: 2.6437 - accuracy: 0.4757\n",
      "Epoch 59/100\n",
      "484/484 [==============================] - 6s 12ms/step - loss: 2.6020 - accuracy: 0.4887\n",
      "Epoch 60/100\n",
      "484/484 [==============================] - 6s 12ms/step - loss: 2.5699 - accuracy: 0.4964\n",
      "Epoch 61/100\n",
      "484/484 [==============================] - 5s 11ms/step - loss: 2.5139 - accuracy: 0.5086\n",
      "Epoch 62/100\n",
      "484/484 [==============================] - 5s 11ms/step - loss: 2.4949 - accuracy: 0.5145\n",
      "Epoch 63/100\n",
      "484/484 [==============================] - 5s 11ms/step - loss: 2.4475 - accuracy: 0.5240\n",
      "Epoch 64/100\n",
      "484/484 [==============================] - 5s 11ms/step - loss: 2.4115 - accuracy: 0.5340\n",
      "Epoch 65/100\n",
      "484/484 [==============================] - 6s 11ms/step - loss: 2.3817 - accuracy: 0.5412\n",
      "Epoch 66/100\n",
      "484/484 [==============================] - 6s 11ms/step - loss: 2.3488 - accuracy: 0.5438\n",
      "Epoch 67/100\n",
      "484/484 [==============================] - 6s 11ms/step - loss: 2.3000 - accuracy: 0.5547\n",
      "Epoch 68/100\n",
      "484/484 [==============================] - 6s 11ms/step - loss: 2.2791 - accuracy: 0.5633\n",
      "Epoch 69/100\n",
      "484/484 [==============================] - 5s 11ms/step - loss: 2.2501 - accuracy: 0.5697\n",
      "Epoch 70/100\n",
      "484/484 [==============================] - 5s 11ms/step - loss: 2.2242 - accuracy: 0.5759\n",
      "Epoch 71/100\n",
      "484/484 [==============================] - 6s 11ms/step - loss: 2.1840 - accuracy: 0.5823\n",
      "Epoch 72/100\n",
      "484/484 [==============================] - 6s 12ms/step - loss: 2.1527 - accuracy: 0.5900\n",
      "Epoch 73/100\n",
      "484/484 [==============================] - 6s 12ms/step - loss: 2.1234 - accuracy: 0.5966\n",
      "Epoch 74/100\n",
      "484/484 [==============================] - 5s 11ms/step - loss: 2.0967 - accuracy: 0.6008\n",
      "Epoch 75/100\n",
      "484/484 [==============================] - 6s 11ms/step - loss: 2.0529 - accuracy: 0.6137\n",
      "Epoch 76/100\n",
      "484/484 [==============================] - 5s 11ms/step - loss: 2.0406 - accuracy: 0.6110\n",
      "Epoch 77/100\n",
      "484/484 [==============================] - 5s 11ms/step - loss: 2.0223 - accuracy: 0.6201\n",
      "Epoch 78/100\n",
      "484/484 [==============================] - 5s 11ms/step - loss: 1.9934 - accuracy: 0.6233\n",
      "Epoch 79/100\n",
      "484/484 [==============================] - 5s 11ms/step - loss: 1.9610 - accuracy: 0.6331\n",
      "Epoch 80/100\n",
      "484/484 [==============================] - 6s 12ms/step - loss: 1.9394 - accuracy: 0.6367\n",
      "Epoch 81/100\n",
      "484/484 [==============================] - 6s 11ms/step - loss: 1.9020 - accuracy: 0.6462\n",
      "Epoch 82/100\n",
      "484/484 [==============================] - 5s 11ms/step - loss: 1.8874 - accuracy: 0.6476\n",
      "Epoch 83/100\n",
      "484/484 [==============================] - 5s 11ms/step - loss: 1.8668 - accuracy: 0.6569\n",
      "Epoch 84/100\n",
      "484/484 [==============================] - 5s 11ms/step - loss: 1.8501 - accuracy: 0.6576\n",
      "Epoch 85/100\n",
      "484/484 [==============================] - 5s 11ms/step - loss: 1.8217 - accuracy: 0.6623\n",
      "Epoch 86/100\n",
      "484/484 [==============================] - 5s 11ms/step - loss: 1.7960 - accuracy: 0.6644\n",
      "Epoch 87/100\n",
      "484/484 [==============================] - 5s 11ms/step - loss: 1.7790 - accuracy: 0.6712\n",
      "Epoch 88/100\n",
      "484/484 [==============================] - 6s 11ms/step - loss: 1.7469 - accuracy: 0.6777\n",
      "Epoch 89/100\n",
      "484/484 [==============================] - 5s 11ms/step - loss: 1.7288 - accuracy: 0.6848\n",
      "Epoch 90/100\n",
      "484/484 [==============================] - 5s 11ms/step - loss: 1.7240 - accuracy: 0.6809\n",
      "Epoch 91/100\n",
      "484/484 [==============================] - 5s 11ms/step - loss: 1.7020 - accuracy: 0.6857\n",
      "Epoch 92/100\n",
      "484/484 [==============================] - 6s 11ms/step - loss: 1.6829 - accuracy: 0.6960\n",
      "Epoch 93/100\n",
      "484/484 [==============================] - 6s 11ms/step - loss: 1.6611 - accuracy: 0.6983\n",
      "Epoch 94/100\n",
      "484/484 [==============================] - 5s 11ms/step - loss: 1.6492 - accuracy: 0.6991\n",
      "Epoch 95/100\n",
      "484/484 [==============================] - 5s 11ms/step - loss: 1.6176 - accuracy: 0.7068\n",
      "Epoch 96/100\n",
      "484/484 [==============================] - 6s 11ms/step - loss: 1.6140 - accuracy: 0.7077\n",
      "Epoch 97/100\n",
      "484/484 [==============================] - 6s 12ms/step - loss: 1.6087 - accuracy: 0.7090\n",
      "Epoch 98/100\n",
      "484/484 [==============================] - 6s 12ms/step - loss: 1.5842 - accuracy: 0.7115\n",
      "Epoch 99/100\n",
      "484/484 [==============================] - 6s 12ms/step - loss: 1.5744 - accuracy: 0.7158\n",
      "Epoch 100/100\n",
      "484/484 [==============================] - 6s 11ms/step - loss: 1.5509 - accuracy: 0.7183\n"
     ],
     "name": "stdout"
    }
   ]
  },
  {
   "cell_type": "code",
   "metadata": {
    "colab_type": "code",
    "id": "1fXTEO3GJ282",
    "colab": {
     "base_uri": "https://localhost:8080/",
     "height": 545
    },
    "outputId": "ac94b60a-afbe-4207-d7f2-ce50eafe6f10",
    "executionInfo": {
     "status": "ok",
     "timestamp": 1591653290730,
     "user_tz": -60,
     "elapsed": 575824,
     "user": {
      "displayName": "Gianfranco Gasbarri",
      "photoUrl": "https://lh3.googleusercontent.com/a-/AOh14GiSFZ6RiCXQ29LsIhkGS6B7d5R6eUFX9SKt6toBs-4=s64",
      "userId": "15447085446291055217"
     }
    }
   },
   "source": [
    "import matplotlib.pyplot as plt\n",
    "acc = history.history['accuracy']\n",
    "loss = history.history['loss']\n",
    "\n",
    "epochs = range(len(acc))\n",
    "\n",
    "plt.plot(epochs, acc, 'b', label='Training accuracy')\n",
    "plt.title('Training accuracy')\n",
    "\n",
    "plt.figure()\n",
    "\n",
    "plt.plot(epochs, loss, 'b', label='Training Loss')\n",
    "plt.title('Training loss')\n",
    "plt.legend()\n",
    "\n",
    "plt.show()"
   ],
   "execution_count": 5,
   "outputs": [
    {
     "output_type": "display_data",
     "data": {
      "image/png": "[encoded data removed]",
      "text/plain": [
       "<Figure size 432x288 with 1 Axes>"
      ]
     },
     "metadata": {
      "tags": [],
      "needs_background": "light"
     }
    },
    {
     "output_type": "display_data",
     "data": {
      "image/png": "[encoded data removed]",
      "text/plain": [
       "<Figure size 432x288 with 1 Axes>"
      ]
     },
     "metadata": {
      "tags": [],
      "needs_background": "light"
     }
    }
   ]
  },
  {
   "cell_type": "code",
   "metadata": {
    "colab_type": "code",
    "id": "6Vc6PHgxa6Hm",
    "colab": {
     "base_uri": "https://localhost:8080/",
     "height": 103
    },
    "outputId": "ff078231-0580-4313-dcfa-9c1d913d79b0",
    "executionInfo": {
     "status": "ok",
     "timestamp": 1591653294093,
     "user_tz": -60,
     "elapsed": 579185,
     "user": {
      "displayName": "Gianfranco Gasbarri",
      "photoUrl": "https://lh3.googleusercontent.com/a-/AOh14GiSFZ6RiCXQ29LsIhkGS6B7d5R6eUFX9SKt6toBs-4=s64",
      "userId": "15447085446291055217"
     }
    }
   },
   "source": [
    "seed_text = \"Help me Obi Wan Kenobi, you're my only hope\"\n",
    "next_words = 100\n",
    "  \n",
    "for _ in range(next_words):\n",
    "\ttoken_list = tokenizer.texts_to_sequences([seed_text])[0]\n",
    "\ttoken_list = pad_sequences([token_list], maxlen=max_sequence_len-1, padding='pre')\n",
    "\tpredicted = model.predict_classes(token_list, verbose=0)\n",
    "\toutput_word = \"\"\n",
    "\tfor word, index in tokenizer.word_index.items():\n",
    "\t\tif index == predicted:\n",
    "\t\t\toutput_word = word\n",
    "\t\t\tbreak\n",
    "\tseed_text += \" \" + output_word\n",
    "print(seed_text)"
   ],
   "execution_count": 6,
   "outputs": [
    {
     "output_type": "stream",
     "text": [
      "WARNING:tensorflow:From <ipython-input-6-622d307fa19a>:7: Sequential.predict_classes (from tensorflow.python.keras.engine.sequential) is deprecated and will be removed after 2021-01-01.\n",
      "Instructions for updating:\n",
      "Please use instead:* `np.argmax(model.predict(x), axis=-1)`,   if your model does multi-class classification   (e.g. if it uses a `softmax` last-layer activation).* `(model.predict(x) > 0.5).astype(\"int32\")`,   if your model does binary classification   (e.g. if it uses a `sigmoid` last-layer activation).\n",
      "Help me Obi Wan Kenobi, you're my only hope your pen doth lie in me be tell new worth to for her longer made times thine own state so so level thus shall have write on men spend hour press hence away more lovely minds to me o'er tell me when my tongue she known appear increase rare ' express'd no hatred fled grow bettering shines things shown assured thee times things worth so true such rage nor spend or hour so life there did must hell me true more respect hour men grow even by his frame respect rotten smoke fix'd be deceive translate injury of times eye\n"
     ],
     "name": "stdout"
    }
   ]
  }
 ]
}