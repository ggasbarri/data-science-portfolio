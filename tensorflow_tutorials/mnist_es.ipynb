{
  "nbformat": 4,
  "nbformat_minor": 0,
  "metadata": {
    "colab": {
      "name": "Tensorflow - MNIST - ES.ipynb",
      "provenance": [
        {
          "file_id": "1kSvwmzRDQ-d3h-DOlF7jmxIwBa8d9JId",
          "timestamp": 1552955022770
        }
      ]
    },
    "kernelspec": {
      "name": "python3",
      "display_name": "Python 3"
    },
    "pycharm": {
      "stem_cell": {
        "cell_type": "raw",
        "source": [],
        "metadata": {
          "collapsed": false
        }
      }
    }
  },
  "cells": [
    {
      "cell_type": "markdown",
      "metadata": {
        "id": "Wqy21EcSrfhE",
        "colab_type": "text",
        "badge": true,
        "repo_name": "gincos/data-science-portfolio",
        "branch": "master",
        "nb_path": "tensorflow_tutorials/mnist_es.ipynb",
        "comment": "This badge cell was added by colab-badge-action"
      },
      "source": [
        "# Computer Vision con TensorFlow en el set de datos de MNIST\n",
        "\n",
        "Podemos usar las APIs de Keras de alto nivel de Tensorflow para resolver problemas cl\u00e1sicos de Machine Learning y Computer Vision.\n",
        "\n",
        "En este notebook, seguiremos los pasos realizados para predecir el n\u00famero de 1 d\u00edgito presente en las fotos que nos proporciona el [dataset de MNIST](https://en.wikipedia.org/wiki/MNIST_database).\n",
        "\n",
        "<a href=\"https://colab.research.google.com/github/gincos/data-science-portfolio/blob/master/tensorflow_tutorials/mnist_es.ipynb\" target=\"_parent\"><img src=\"https://colab.research.google.com/assets/colab-badge.svg\" alt=\"Open In Colab\"/></a>"
      ]
    },
    {
      "cell_type": "markdown",
      "metadata": {
        "id": "diimaXSIsLkR",
        "colab_type": "text"
      },
      "source": [
        "Primero que nada, se importan las librer\u00edas necesarias para solucionar este problema"
      ]
    },
    {
      "cell_type": "code",
      "metadata": {
        "id": "L4wEY9VFrPjS",
        "colab_type": "code",
        "colab": {}
      },
      "source": [
        "import tensorflow as tf\n",
        "import numpy as np\n",
        "import matplotlib.pyplot as plt"
      ],
      "execution_count": 0,
      "outputs": []
    },
    {
      "cell_type": "markdown",
      "metadata": {
        "id": "EDfvCB-HsTDp",
        "colab_type": "text"
      },
      "source": [
        "## Paso 1 - Importar la data\n",
        "\n",
        "Importar las fotos y las etiquetas de tf.keras.datasets MNIST."
      ]
    },
    {
      "cell_type": "code",
      "metadata": {
        "id": "JaTQdLGpsStR",
        "colab_type": "code",
        "colab": {
          "base_uri": "https://localhost:8080/",
          "height": 50
        },
        "outputId": "aa17b2aa-9482-4d27-c738-e053dc08319d",
        "executionInfo": {
          "status": "ok",
          "timestamp": 1584807059376,
          "user_tz": 0,
          "elapsed": 5261,
          "user": {
            "displayName": "Gianfranco Gasbarri",
            "photoUrl": "https://lh3.googleusercontent.com/a-/AOh14GiSFZ6RiCXQ29LsIhkGS6B7d5R6eUFX9SKt6toBs-4=s64",
            "userId": "15447085446291055217"
          }
        }
      },
      "source": [
        "(train_images, train_labels), (test_images, test_labels) = tf.keras.datasets.mnist.load_data()"
      ],
      "execution_count": 2,
      "outputs": [
        {
          "output_type": "stream",
          "text": [
            "Downloading data from https://storage.googleapis.com/tensorflow/tf-keras-datasets/mnist.npz\n",
            "11493376/11490434 [==============================] - 0s 0us/step\n"
          ],
          "name": "stdout"
        }
      ]
    },
    {
      "cell_type": "markdown",
      "metadata": {
        "id": "EsvsuN0PsiJI",
        "colab_type": "text"
      },
      "source": [
        "### Paso 1.a - Visualizar ejemplo\n",
        "\n",
        "Tomamos una imagen para entender visualmente su matriz de datos."
      ]
    },
    {
      "cell_type": "code",
      "metadata": {
        "id": "-ITXTnGispA_",
        "colab_type": "code",
        "colab": {
          "base_uri": "https://localhost:8080/",
          "height": 298
        },
        "outputId": "48e0a576-832b-4d49-8852-eccf5ccc56fe",
        "executionInfo": {
          "status": "ok",
          "timestamp": 1584807059796,
          "user_tz": 0,
          "elapsed": 5679,
          "user": {
            "displayName": "Gianfranco Gasbarri",
            "photoUrl": "https://lh3.googleusercontent.com/a-/AOh14GiSFZ6RiCXQ29LsIhkGS6B7d5R6eUFX9SKt6toBs-4=s64",
            "userId": "15447085446291055217"
          }
        }
      },
      "source": [
        "plt.figure()\n",
        "plt.imshow(train_images[0])\n",
        "plt.colorbar()\n",
        "plt.grid(False)\n",
        "plt.show()\n",
        "plt.figure(figsize=(10, 10))"
      ],
      "execution_count": 3,
      "outputs": [
        {
          "output_type": "display_data",
          "data": {
            "image/png": "[encoded data removed]",
            "text/plain": [
              "<Figure size 432x288 with 2 Axes>"
            ]
          },
          "metadata": {
            "tags": []
          }
        },
        {
          "output_type": "execute_result",
          "data": {
            "text/plain": [
              "<Figure size 720x720 with 0 Axes>"
            ]
          },
          "metadata": {
            "tags": []
          },
          "execution_count": 3
        },
        {
          "output_type": "display_data",
          "data": {
            "text/plain": [
              "<Figure size 720x720 with 0 Axes>"
            ]
          },
          "metadata": {
            "tags": []
          }
        }
      ]
    },
    {
      "cell_type": "markdown",
      "metadata": {
        "id": "51rg-UlztJ4H",
        "colab_type": "text"
      },
      "source": [
        "### Paso 1.b - Pre-procesar data\n",
        "\n",
        "Las im\u00e1genes son matrices de 28x28 con valores del 0 al 255 que describen el color (el 0 es blanco y el 255 negro). Se pueden limitar al rango de 0 a 1 para mejorar el rendimiento del entrenamiento."
      ]
    },
    {
      "cell_type": "code",
      "metadata": {
        "id": "bVJRxfcgtUNn",
        "colab_type": "code",
        "colab": {}
      },
      "source": [
        "train_images = train_images / 255.0\n",
        "test_images = test_images / 255.0"
      ],
      "execution_count": 0,
      "outputs": []
    },
    {
      "cell_type": "markdown",
      "metadata": {
        "id": "WN5LqCKesRIX",
        "colab_type": "text"
      },
      "source": [
        "Referencias:\n",
        "\n",
        "[Why Data Normalization for Machine Learning?](https://medium.com/@urvashilluniya/why-data-normalization-is-necessary-for-machine-learning-models-681b65a05029)"
      ]
    },
    {
      "cell_type": "markdown",
      "metadata": {
        "id": "zWgw5bh-tciI",
        "colab_type": "text"
      },
      "source": [
        "### Paso 1.c - Visualizar la pareja imagen-etiqueta\n",
        "\n",
        "Ahora mostramos en una cuadr\u00edcula c\u00f3mo cada imagen est\u00e1 etiquetada en el dataset."
      ]
    },
    {
      "cell_type": "code",
      "metadata": {
        "id": "hd9OkKoMt8lt",
        "colab_type": "code",
        "colab": {
          "base_uri": "https://localhost:8080/",
          "height": 262
        },
        "outputId": "9499c537-496e-44e3-8197-65eb729d8bf7",
        "executionInfo": {
          "status": "ok",
          "timestamp": 1584807061030,
          "user_tz": 0,
          "elapsed": 6909,
          "user": {
            "displayName": "Gianfranco Gasbarri",
            "photoUrl": "https://lh3.googleusercontent.com/a-/AOh14GiSFZ6RiCXQ29LsIhkGS6B7d5R6eUFX9SKt6toBs-4=s64",
            "userId": "15447085446291055217"
          }
        }
      },
      "source": [
        "# Mostramos 25 imagenes\n",
        "for i in range(25):\n",
        "    plt.subplot(5, 5, i + 1)\n",
        "    plt.xticks([])\n",
        "    plt.yticks([])\n",
        "    plt.grid(False)\n",
        "    plt.imshow(train_images[i], cmap=plt.cm.binary)\n",
        "    plt.xlabel(train_labels[i])\n",
        "plt.show()"
      ],
      "execution_count": 5,
      "outputs": [
        {
          "output_type": "display_data",
          "data": {
            "image/png": "[encoded data removed]",
            "text/plain": [
              "<Figure size 432x288 with 25 Axes>"
            ]
          },
          "metadata": {
            "tags": []
          }
        }
      ]
    },
    {
      "cell_type": "markdown",
      "metadata": {
        "id": "hD9YwOIvuCVV",
        "colab_type": "text"
      },
      "source": [
        "## Paso 2 - Definir la Red Neuronal\n",
        "\n",
        "Usamos las APIs de alto nivel de Keras para definir una Red Neuronal con una capa de pre-procesamiento (\"flatten\" o aplanamiento), 2 capas profundas y una capa de salida.\n",
        "\n",
        "*   Es \"Secuencial\" ya que cada capa corre una despu\u00e9s de la otra\n",
        "*   En la capa de pre-procesamiento, vamos desarmando las entradas de la matriz (28, 28) a un vector de 784 entradas, para cada imagen con que alimentamos al modelo. Esto hace al proceso m\u00e1s r\u00e1pido y efectivo.\n",
        "*   Tenemos 2 capas profundas. \"Dense\" significa que todos sus nodos est\u00e1n conectados a todos los de la capa anterior y siguiente.\n",
        "*   La capa de salida tiene 10 nodos ya que cada uno corresponde a una posible clasificaci\u00f3n (los n\u00fameros del 0 al 9).\n",
        "*   La salida del modelo es un vector de 10 entradas, cada una correspondiendo a la probabilidad de que la imagen entregada pertenezca a una determinada clasificaci\u00f3n. Por tanto, la predicci\u00f3n del clasificador vendr\u00e1 dada por la probabildad m\u00e1s alta en este vector."
      ]
    },
    {
      "cell_type": "code",
      "metadata": {
        "id": "Jb91xVtlvWtM",
        "colab_type": "code",
        "colab": {
          "base_uri": "https://localhost:8080/",
          "height": 86
        },
        "outputId": "13f2c63d-fd2e-452c-964b-0a17669b06bf",
        "executionInfo": {
          "status": "ok",
          "timestamp": 1584807061031,
          "user_tz": 0,
          "elapsed": 6908,
          "user": {
            "displayName": "Gianfranco Gasbarri",
            "photoUrl": "https://lh3.googleusercontent.com/a-/AOh14GiSFZ6RiCXQ29LsIhkGS6B7d5R6eUFX9SKt6toBs-4=s64",
            "userId": "15447085446291055217"
          }
        }
      },
      "source": [
        "model = tf.keras.Sequential()\n",
        "model.add(tf.keras.layers.Flatten(input_shape=(28, 28)))\n",
        "model.add(tf.keras.layers.Dense(512, activation=tf.nn.relu, input_shape=(784,)))\n",
        "model.add(tf.keras.layers.Dense(256, activation=tf.nn.relu))\n",
        "model.add(tf.keras.layers.Dense(10, activation=tf.nn.softmax, ))  # Capa de salida"
      ],
      "execution_count": 6,
      "outputs": [
        {
          "output_type": "stream",
          "text": [
            "WARNING:tensorflow:From /tensorflow-1.15.0/python3.6/tensorflow_core/python/ops/resource_variable_ops.py:1630: calling BaseResourceVariable.__init__ (from tensorflow.python.ops.resource_variable_ops) with constraint is deprecated and will be removed in a future version.\n",
            "Instructions for updating:\n",
            "If using Keras pass *_constraint arguments to layers.\n"
          ],
          "name": "stdout"
        }
      ]
    },
    {
      "cell_type": "markdown",
      "metadata": {
        "id": "Jq_K4HyVg2Bc",
        "colab_type": "text"
      },
      "source": [
        "Referencias:\n",
        "\n",
        "[ReLU](https://en.wikipedia.org/wiki/Rectifier_(neural_networks)\n",
        "\n",
        "[Softmax](https://en.wikipedia.org/wiki/Softmax_function)"
      ]
    },
    {
      "cell_type": "markdown",
      "metadata": {
        "id": "5rgjsRQ9vezS",
        "colab_type": "text"
      },
      "source": [
        "## Paso 3 - Compilar el modelo\n",
        "\n",
        "Configuramos al modelo para ser entrenado. Aqu\u00ed especificamnos nuestro optimizador y funci\u00f3n de p\u00e9rdida, al igual que cualquier m\u00e9trica que queramos evaluar en el modelo."
      ]
    },
    {
      "cell_type": "code",
      "metadata": {
        "id": "aYIPK9J5wEbB",
        "colab_type": "code",
        "colab": {}
      },
      "source": [
        "model.compile(optimizer='rmsprop',\n",
        "              loss=\"sparse_categorical_crossentropy\",\n",
        "              metrics=['accuracy'])"
      ],
      "execution_count": 0,
      "outputs": []
    },
    {
      "cell_type": "markdown",
      "metadata": {
        "id": "TtxAslfbo532",
        "colab_type": "text"
      },
      "source": [
        "Referencias:\n",
        "\n",
        "[RMSProp](https://towardsdatascience.com/understanding-rmsprop-faster-neural-network-learning-62e116fcf29a)\n",
        "\n",
        "[Sparse Categorical Cross-entropy](https://www.reddit.com/r/MLQuestions/comments/93ovkw/what_is_sparse_categorical_crossentropy/)"
      ]
    },
    {
      "cell_type": "markdown",
      "metadata": {
        "id": "rXLW8AfAwPr5",
        "colab_type": "text"
      },
      "source": [
        "## Paso 4 - Entrenar el modelo\n",
        "\n",
        "Ahora entrenamos el modelo usando train_images y train_labels. Esto le dar\u00e1 valor a todos los pesos e interceptos de las capas que definimos.\n",
        "\n",
        "Si ya ha sido entrenado, podemos guardar los valores de un modelo para luego configurar otro reci\u00e9n compilado r\u00e1pidamente de la misma forma, de modo que no es necesario entrenar al modelo cada vez."
      ]
    },
    {
      "cell_type": "code",
      "metadata": {
        "id": "RXRleV8ywyrP",
        "colab_type": "code",
        "colab": {
          "base_uri": "https://localhost:8080/",
          "height": 199
        },
        "outputId": "ea5c9c74-f65e-4d3a-b8b0-a0d2561e3bdf",
        "executionInfo": {
          "status": "ok",
          "timestamp": 1584807128680,
          "user_tz": 0,
          "elapsed": 74553,
          "user": {
            "displayName": "Gianfranco Gasbarri",
            "photoUrl": "https://lh3.googleusercontent.com/a-/AOh14GiSFZ6RiCXQ29LsIhkGS6B7d5R6eUFX9SKt6toBs-4=s64",
            "userId": "15447085446291055217"
          }
        }
      },
      "source": [
        "# Opcion 1 - Entrenar\n",
        "model.fit(train_images, train_labels, epochs=5)\n",
        "\n",
        "# -------------------  OR  ---------------------\n",
        "\n",
        "# Opcion 2 - Guardar y Restaurar\n",
        "\n",
        "# Restaurar los valores (optional)\n",
        "# model.load_weights('./checkpoints/saved_weights')\n",
        "\n",
        "# Step 4.3 - Restaurar los valores (opcional)\n",
        "model.save_weights('./checkpoints/saved_weights')"
      ],
      "execution_count": 8,
      "outputs": [
        {
          "output_type": "stream",
          "text": [
            "Train on 60000 samples\n",
            "Epoch 1/5\n",
            "60000/60000 [==============================] - 13s 225us/sample - loss: 0.1893 - acc: 0.9437\n",
            "Epoch 2/5\n",
            "60000/60000 [==============================] - 14s 225us/sample - loss: 0.0924 - acc: 0.9741\n",
            "Epoch 3/5\n",
            "60000/60000 [==============================] - 13s 223us/sample - loss: 0.0748 - acc: 0.9806\n",
            "Epoch 4/5\n",
            "60000/60000 [==============================] - 13s 223us/sample - loss: 0.0650 - acc: 0.9843\n",
            "Epoch 5/5\n",
            "60000/60000 [==============================] - 13s 223us/sample - loss: 0.0608 - acc: 0.9865\n"
          ],
          "name": "stdout"
        }
      ]
    },
    {
      "cell_type": "markdown",
      "metadata": {
        "id": "Zxv2y8C-xEqn",
        "colab_type": "text"
      },
      "source": [
        "## Paso 5 - Evaluar\n",
        "\n",
        "Podemos analizar el rendimiento general del modelo que acabamos de entrenar."
      ]
    },
    {
      "cell_type": "code",
      "metadata": {
        "id": "2WpGDszqxUrm",
        "colab_type": "code",
        "colab": {
          "base_uri": "https://localhost:8080/",
          "height": 66
        },
        "outputId": "6120c0b8-6203-416f-b05c-54e92e003c89",
        "executionInfo": {
          "status": "ok",
          "timestamp": 1584807129483,
          "user_tz": 0,
          "elapsed": 75354,
          "user": {
            "displayName": "Gianfranco Gasbarri",
            "photoUrl": "https://lh3.googleusercontent.com/a-/AOh14GiSFZ6RiCXQ29LsIhkGS6B7d5R6eUFX9SKt6toBs-4=s64",
            "userId": "15447085446291055217"
          }
        }
      },
      "source": [
        "loss, acc = model.evaluate(test_images, test_labels)\n",
        "print('P\u00e9rdida: ' + str(loss))\n",
        "print('Precisi\u00f3n: ' + str(acc))"
      ],
      "execution_count": 9,
      "outputs": [
        {
          "output_type": "stream",
          "text": [
            "10000/10000 [==============================] - 1s 65us/sample - loss: 0.1238 - acc: 0.9781\n",
            "P\u00e9rdida: 0.1237836969238584\n",
            "Precisi\u00f3n: 0.9781\n"
          ],
          "name": "stdout"
        }
      ]
    },
    {
      "cell_type": "markdown",
      "metadata": {
        "id": "7KbX3uKkx2hl",
        "colab_type": "text"
      },
      "source": [
        "### Paso 5.1 - Mostrar la etiqueta predecida para una imagen aleatoria\n",
        "\n",
        "Finalmente, podemos probar nuestro modelo entrenado en una imagen aleatoria del set de prueba para visualizar los resultados de su predicci\u00f3n."
      ]
    },
    {
      "cell_type": "code",
      "metadata": {
        "id": "d2yuztPZyJeg",
        "colab_type": "code",
        "colab": {
          "base_uri": "https://localhost:8080/",
          "height": 315
        },
        "outputId": "9a74dbd2-744b-4d53-8c9b-23f9ecda9f4a",
        "executionInfo": {
          "status": "ok",
          "timestamp": 1584807808360,
          "user_tz": 0,
          "elapsed": 525,
          "user": {
            "displayName": "Gianfranco Gasbarri",
            "photoUrl": "https://lh3.googleusercontent.com/a-/AOh14GiSFZ6RiCXQ29LsIhkGS6B7d5R6eUFX9SKt6toBs-4=s64",
            "userId": "15447085446291055217"
          }
        }
      },
      "source": [
        "import random\n",
        "\n",
        "# Obtener indice aleatorio para el vector de imagenes de prueba\n",
        "random_index = random.randint(0, len(test_images) - 1)\n",
        "\n",
        "# Predecir etiqueta para dicho ejemplar\n",
        "test_prediction = model.predict(test_images[random_index:random_index + 1])\n",
        "\n",
        "# Visualizar la prediccion al lado de su imagen generadora\n",
        "plt.figure()\n",
        "plt.imshow(test_images[random_index])\n",
        "plt.grid(False)\n",
        "plt.show()\n",
        "plt.figure(figsize=(10, 10))\n",
        "print('\\nPredicci\u00f3n: '+str(np.argmax(test_prediction)))"
      ],
      "execution_count": 13,
      "outputs": [
        {
          "output_type": "display_data",
          "data": {
            "image/png": "[encoded data removed]",
            "text/plain": [
              "<Figure size 432x288 with 1 Axes>"
            ]
          },
          "metadata": {
            "tags": []
          }
        },
        {
          "output_type": "stream",
          "text": [
            "\n",
            "Predicci\u00f3n: 4\n"
          ],
          "name": "stdout"
        },
        {
          "output_type": "display_data",
          "data": {
            "text/plain": [
              "<Figure size 720x720 with 0 Axes>"
            ]
          },
          "metadata": {
            "tags": []
          }
        }
      ]
    }
  ]
}