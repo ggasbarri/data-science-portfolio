{
  "nbformat": 4,
  "nbformat_minor": 0,
  "metadata": {
    "colab": {
      "name": "Tensorflow - MNIST.ipynb",
      "version": "0.3.2",
      "provenance": []
    },
    "kernelspec": {
      "name": "python3",
      "display_name": "Python 3"
    },
    "pycharm": {
      "stem_cell": {
        "cell_type": "raw",
        "source": [],
        "metadata": {
          "collapsed": false
        }
      }
    }
  },
  "cells": [
    {
      "metadata": {
        "id": "Wqy21EcSrfhE",
        "colab_type": "text",
        "badge": true,
        "repo_name": "gincos/data-science-portfolio",
        "branch": "master",
        "nb_path": "tensorflow_tutorials/mnist.ipynb",
        "comment": "This badge cell was added by colab-badge-action"
      },
      "cell_type": "markdown",
      "source": [
        "# MNIST Computer Vision problem solved with Tensorflow\n",
        "\n",
        "We can use Tensorflow high-level APIs (like Keras) to solve classic Machine Learning and Computer Vision problems.\n",
        "\n",
        "In this notebook, we will follow the steps performed to predict written 1-digit numbers from the [MNIST dataset](https://en.wikipedia.org/wiki/MNIST_database).\n",
        "\n",
        "<a href=\"https://colab.research.google.com/github/gincos/data-science-portfolio/blob/master/tensorflow_tutorials/mnist.ipynb\" target=\"_parent\"><img src=\"https://colab.research.google.com/assets/colab-badge.svg\" alt=\"Open In Colab\"/></a>"
      ]
    },
    {
      "metadata": {
        "id": "diimaXSIsLkR",
        "colab_type": "text"
      },
      "cell_type": "markdown",
      "source": [
        "First of all, we import the necessary libraries"
      ]
    },
    {
      "metadata": {
        "id": "L4wEY9VFrPjS",
        "colab_type": "code",
        "colab": {}
      },
      "cell_type": "code",
      "source": [
        "import tensorflow as tf\n",
        "\n",
        "# Helper libraries\n",
        "import numpy as np\n",
        "import matplotlib.pyplot as plt\n",
        "import random"
      ],
      "execution_count": 0,
      "outputs": []
    },
    {
      "metadata": {
        "id": "EDfvCB-HsTDp",
        "colab_type": "text"
      },
      "cell_type": "markdown",
      "source": [
        "## Step 1 - Import the data\n",
        "\n",
        "Load the inputs and labels from tf.keras.datasets MNIST."
      ]
    },
    {
      "metadata": {
        "id": "JaTQdLGpsStR",
        "colab_type": "code",
        "colab": {}
      },
      "cell_type": "code",
      "source": [
        "(train_images, train_labels), (test_images, test_labels) = tf.keras.datasets.mnist.load_data()"
      ],
      "execution_count": 0,
      "outputs": []
    },
    {
      "metadata": {
        "id": "EsvsuN0PsiJI",
        "colab_type": "text"
      },
      "cell_type": "markdown",
      "source": [
        "### Step 1.a - Visualize sample\n",
        "\n",
        "We take a single sample image to visually understand the data matrix."
      ]
    },
    {
      "metadata": {
        "id": "-ITXTnGispA_",
        "colab_type": "code",
        "outputId": "8c56661b-1622-4ae5-8c59-242d5e73ca7d",
        "executionInfo": {
          "status": "ok",
          "timestamp": 1550801052432,
          "user_tz": 240,
          "elapsed": 1078,
          "user": {
            "displayName": "Gianfranco Gasbarri",
            "photoUrl": "https://lh3.googleusercontent.com/-krHSK5_yvk4/AAAAAAAAAAI/AAAAAAAATpc/keJkdcNZUvg/s64/photo.jpg",
            "userId": "15447085446291055217"
          }
        },
        "colab": {
          "base_uri": "https://localhost:8080/",
          "height": 381
        }
      },
      "cell_type": "code",
      "source": [
        "plt.figure()\n",
        "plt.imshow(train_images[0])\n",
        "plt.colorbar()\n",
        "plt.grid(False)\n",
        "plt.show()\n",
        "plt.figure(figsize=(10, 10))"
      ],
      "execution_count": 17,
      "outputs": [
        {
          "output_type": "display_data",
          "data": {
            "image/png": "[encoded data removed]",
            "text/plain": [
              "<Figure size 576x396 with 2 Axes>"
            ]
          },
          "metadata": {
            "tags": []
          }
        },
        {
          "output_type": "execute_result",
          "data": {
            "text/plain": [
              "<Figure size 720x720 with 0 Axes>"
            ]
          },
          "metadata": {
            "tags": []
          },
          "execution_count": 17
        },
        {
          "output_type": "display_data",
          "data": {
            "text/plain": [
              "<Figure size 720x720 with 0 Axes>"
            ]
          },
          "metadata": {
            "tags": []
          }
        }
      ]
    },
    {
      "metadata": {
        "id": "51rg-UlztJ4H",
        "colab_type": "text"
      },
      "cell_type": "markdown",
      "source": [
        "### Step 1.b - Pre-process data\n",
        "\n",
        "Images are matrices with values from 0 to 255 that describe the color. We can limit the range to 0 to 1 in order to enhance performance"
      ]
    },
    {
      "metadata": {
        "id": "bVJRxfcgtUNn",
        "colab_type": "code",
        "colab": {}
      },
      "cell_type": "code",
      "source": [
        "train_images = train_images / 255.0\n",
        "test_images = test_images / 255.0"
      ],
      "execution_count": 0,
      "outputs": []
    },
    {
      "metadata": {
        "id": "zWgw5bh-tciI",
        "colab_type": "text"
      },
      "cell_type": "markdown",
      "source": [
        "### Step 1.c - Visualize input and labels\n",
        "\n",
        "Show a grid in which we see how each input is labeled in the dataset."
      ]
    },
    {
      "metadata": {
        "id": "hd9OkKoMt8lt",
        "colab_type": "code",
        "outputId": "f9eeb77e-c5cb-403f-a8dc-e2167a384175",
        "executionInfo": {
          "status": "ok",
          "timestamp": 1550801068690,
          "user_tz": 240,
          "elapsed": 1446,
          "user": {
            "displayName": "Gianfranco Gasbarri",
            "photoUrl": "https://lh3.googleusercontent.com/-krHSK5_yvk4/AAAAAAAAAAI/AAAAAAAATpc/keJkdcNZUvg/s64/photo.jpg",
            "userId": "15447085446291055217"
          }
        },
        "colab": {
          "base_uri": "https://localhost:8080/",
          "height": 344
        }
      },
      "cell_type": "code",
      "source": [
        "for i in range(25):\n",
        "    plt.subplot(5, 5, i + 1)\n",
        "    plt.xticks([])\n",
        "    plt.yticks([])\n",
        "    plt.grid(False)\n",
        "    plt.imshow(train_images[i], cmap=plt.cm.binary)\n",
        "    plt.xlabel(train_labels[i])\n",
        "plt.show()"
      ],
      "execution_count": 19,
      "outputs": [
        {
          "output_type": "display_data",
          "data": {
            "image/png": "[encoded data removed]",
            "text/plain": [
              "<Figure size 576x396 with 25 Axes>"
            ]
          },
          "metadata": {
            "tags": []
          }
        }
      ]
    },
    {
      "metadata": {
        "id": "hD9YwOIvuCVV",
        "colab_type": "text"
      },
      "cell_type": "markdown",
      "source": [
        "## Step 2 - Define Neural Network\n",
        "\n",
        "We use the Keras high-level API in order to define a Neural Network with a pre-process layer, 2 deep layers, and an output layer.\n",
        "\n",
        "\n",
        "*   It's \"Sequential\" since its layers are run one after the other.\n",
        "*   In the pre-process layer, we unpack the (28, 28) matrix into a 784 vector for each item we feed into the model. This makes the overall process quicker and more effective.\n",
        "*   We have 2 deep layers. The \"Dense\" means that all their nodes are connected to inputs and outputs (nodes from next layer).\n",
        "*   The output layer has 10 nodes since we have a class for each number (0 to 9)."
      ]
    },
    {
      "metadata": {
        "id": "Jb91xVtlvWtM",
        "colab_type": "code",
        "colab": {}
      },
      "cell_type": "code",
      "source": [
        "model = tf.keras.Sequential()\n",
        "model.add(tf.keras.layers.Flatten(input_shape=(28, 28)))\n",
        "model.add(tf.keras.layers.Dense(512, activation=tf.nn.relu, input_shape=(784,)))\n",
        "model.add(tf.keras.layers.Dense(256, activation=tf.nn.relu))\n",
        "model.add(tf.keras.layers.Dense(10, activation=tf.nn.softmax, ))  # Output layer"
      ],
      "execution_count": 0,
      "outputs": []
    },
    {
      "metadata": {
        "id": "5rgjsRQ9vezS",
        "colab_type": "text"
      },
      "cell_type": "markdown",
      "source": [
        "## Step 3 - Compile the model\n",
        "\n",
        "Configures the model for training. Here we specify our optimizer and loss functions, and also any metrics we need to evaluate the model."
      ]
    },
    {
      "metadata": {
        "id": "aYIPK9J5wEbB",
        "colab_type": "code",
        "colab": {}
      },
      "cell_type": "code",
      "source": [
        "model.compile(optimizer='rmsprop',\n",
        "              loss=\"sparse_categorical_crossentropy\",\n",
        "              metrics=['accuracy'])"
      ],
      "execution_count": 0,
      "outputs": []
    },
    {
      "metadata": {
        "id": "rXLW8AfAwPr5",
        "colab_type": "text"
      },
      "cell_type": "markdown",
      "source": [
        "## Step 4 - Train the model\n",
        "\n",
        "Here we can train the model using train_images and train_labels. This will give value to all weights and biases of the layers we defined.\n",
        "\n",
        "If already trained, a model can save these values in order to fastly configure a newly compiled model in the same way, therefore it is not necessary to train every time."
      ]
    },
    {
      "metadata": {
        "id": "RXRleV8ywyrP",
        "colab_type": "code",
        "outputId": "a9e502e2-dc23-4927-c2b9-e31cfc74c690",
        "executionInfo": {
          "status": "ok",
          "timestamp": 1550801207478,
          "user_tz": 240,
          "elapsed": 93221,
          "user": {
            "displayName": "Gianfranco Gasbarri",
            "photoUrl": "https://lh3.googleusercontent.com/-krHSK5_yvk4/AAAAAAAAAAI/AAAAAAAATpc/keJkdcNZUvg/s64/photo.jpg",
            "userId": "15447085446291055217"
          }
        },
        "colab": {
          "base_uri": "https://localhost:8080/",
          "height": 204
        }
      },
      "cell_type": "code",
      "source": [
        "# Option 1 - Train\n",
        "model.fit(train_images, train_labels, epochs=5)\n",
        "\n",
        "# -------------------  OR  ---------------------\n",
        "\n",
        "# Option 2 - Save & Restore\n",
        "\n",
        "# Restore the weights (optional)\n",
        "# model.load_weights('./checkpoints/saved_weights')\n",
        "\n",
        "# Step 4.3 - Save the weights (optional)\n",
        "# model.save_weights('./checkpoints/saved_weights')"
      ],
      "execution_count": 23,
      "outputs": [
        {
          "output_type": "stream",
          "text": [
            "Epoch 1/5\n",
            "60000/60000 [==============================] - 19s 318us/sample - loss: 0.1924 - acc: 0.9423\n",
            "Epoch 2/5\n",
            "60000/60000 [==============================] - 19s 311us/sample - loss: 0.0970 - acc: 0.9735\n",
            "Epoch 3/5\n",
            "60000/60000 [==============================] - 18s 307us/sample - loss: 0.0778 - acc: 0.9811\n",
            "Epoch 4/5\n",
            "60000/60000 [==============================] - 18s 301us/sample - loss: 0.0651 - acc: 0.9850\n",
            "Epoch 5/5\n",
            "60000/60000 [==============================] - 18s 304us/sample - loss: 0.0599 - acc: 0.9871\n"
          ],
          "name": "stdout"
        },
        {
          "output_type": "execute_result",
          "data": {
            "text/plain": [
              "<tensorflow.python.keras.callbacks.History at 0x7f185cd5de10>"
            ]
          },
          "metadata": {
            "tags": []
          },
          "execution_count": 23
        }
      ]
    },
    {
      "metadata": {
        "id": "Zxv2y8C-xEqn",
        "colab_type": "text"
      },
      "cell_type": "markdown",
      "source": [
        "## Step 5 - Evaluate\n",
        "\n",
        "We can analyze the overall performance of the model we trained."
      ]
    },
    {
      "metadata": {
        "id": "2WpGDszqxUrm",
        "colab_type": "code",
        "outputId": "c63332ca-6c43-4671-a6ee-21887b5ec14c",
        "executionInfo": {
          "status": "ok",
          "timestamp": 1550798235380,
          "user_tz": 240,
          "elapsed": 1062,
          "user": {
            "displayName": "Gianfranco Gasbarri",
            "photoUrl": "https://lh3.googleusercontent.com/-krHSK5_yvk4/AAAAAAAAAAI/AAAAAAAATpc/keJkdcNZUvg/s64/photo.jpg",
            "userId": "15447085446291055217"
          }
        },
        "colab": {
          "base_uri": "https://localhost:8080/",
          "height": 68
        }
      },
      "cell_type": "code",
      "source": [
        "loss, acc = model.evaluate(test_images, test_labels)\n",
        "print('Loss: ' + str(loss))\n",
        "print('Accuracy: ' + str(acc))"
      ],
      "execution_count": 0,
      "outputs": [
        {
          "output_type": "stream",
          "text": [
            "10000/10000 [==============================] - 1s 77us/sample - loss: 0.1138 - acc: 0.9804\n",
            "Loss: 0.11382430901235821\n",
            "Accuracy: 0.9804\n"
          ],
          "name": "stdout"
        }
      ]
    },
    {
      "metadata": {
        "id": "7KbX3uKkx2hl",
        "colab_type": "text"
      },
      "cell_type": "markdown",
      "source": [
        "### Step 5.1 - Show predicted label for a random image\n",
        "\n",
        "We can try our model on a random sample from the test set and visualize its results."
      ]
    },
    {
      "metadata": {
        "id": "d2yuztPZyJeg",
        "colab_type": "code",
        "outputId": "c2c7c05c-0c95-4fce-d231-f5cf5743a277",
        "executionInfo": {
          "status": "ok",
          "timestamp": 1550798720668,
          "user_tz": 240,
          "elapsed": 623,
          "user": {
            "displayName": "Gianfranco Gasbarri",
            "photoUrl": "https://lh3.googleusercontent.com/-krHSK5_yvk4/AAAAAAAAAAI/AAAAAAAATpc/keJkdcNZUvg/s64/photo.jpg",
            "userId": "15447085446291055217"
          }
        },
        "colab": {
          "base_uri": "https://localhost:8080/",
          "height": 398
        }
      },
      "cell_type": "code",
      "source": [
        "# Get a random integer\n",
        "random_index = random.randint(0, len(test_images) - 1)\n",
        "\n",
        "# Predict for given sample number\n",
        "test_prediction = model.predict(test_images[random_index:random_index + 1])\n",
        "\n",
        "# Visualize prediction alongside its corresponding image\n",
        "plt.figure()\n",
        "plt.imshow(test_images[random_index])\n",
        "plt.grid(False)\n",
        "plt.show()\n",
        "plt.figure(figsize=(10, 10))\n",
        "print('\\nPrediction: '+str(np.argmax(test_prediction)))"
      ],
      "execution_count": 0,
      "outputs": [
        {
          "output_type": "display_data",
          "data": {
            "image/png": "[encoded data removed]",
            "text/plain": [
              "<Figure size 576x396 with 1 Axes>"
            ]
          },
          "metadata": {
            "tags": []
          }
        },
        {
          "output_type": "stream",
          "text": [
            "\n",
            "Prediction: 5\n"
          ],
          "name": "stdout"
        },
        {
          "output_type": "display_data",
          "data": {
            "text/plain": [
              "<Figure size 720x720 with 0 Axes>"
            ]
          },
          "metadata": {
            "tags": []
          }
        }
      ]
    }
  ]
}